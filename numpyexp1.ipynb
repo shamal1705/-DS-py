{
  "nbformat": 4,
  "nbformat_minor": 0,
  "metadata": {
    "colab": {
      "provenance": [],
      "authorship_tag": "ABX9TyPnHGxpxWBrZIgdTCV78+EY",
      "include_colab_link": true
    },
    "kernelspec": {
      "name": "python3",
      "display_name": "Python 3"
    },
    "language_info": {
      "name": "python"
    }
  },
  "cells": [
    {
      "cell_type": "markdown",
      "metadata": {
        "id": "view-in-github",
        "colab_type": "text"
      },
      "source": [
        "<a href=\"https://colab.research.google.com/github/shamal1705/-DS-py/blob/main/numpyexp1.ipynb\" target=\"_parent\"><img src=\"https://colab.research.google.com/assets/colab-badge.svg\" alt=\"Open In Colab\"/></a>"
      ]
    },
    {
      "cell_type": "code",
      "execution_count": null,
      "metadata": {
        "colab": {
          "base_uri": "https://localhost:8080/"
        },
        "id": "cwBDWq7rxdC-",
        "outputId": "fcb17c8c-6797-4873-9086-8cf8e406d2d4"
      },
      "outputs": [
        {
          "output_type": "execute_result",
          "data": {
            "text/plain": [
              "[0, 1, 2, 3, 4, 5, 6, 7, 8, 9, 10, 11, 12, 13, 14]"
            ]
          },
          "metadata": {},
          "execution_count": 1
        }
      ],
      "source": [
        "L= list(range(15))\n",
        "L"
      ]
    },
    {
      "cell_type": "markdown",
      "source": [],
      "metadata": {
        "id": "-3WjK1P1zEvS"
      }
    },
    {
      "cell_type": "markdown",
      "source": [
        "numpy \n",
        " "
      ],
      "metadata": {
        "id": "H4ArBU6SzEyJ"
      }
    }
  ]
}